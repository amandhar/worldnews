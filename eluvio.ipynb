{
 "cells": [
  {
   "cell_type": "markdown",
   "metadata": {},
   "source": [
    "# Eluvio Code Challenge\n",
    "\n",
    "Aman Dhar\n",
    "\n",
    "10/21/19\n",
    "\n",
    "Exploratory Data Analysis on Reddit r/worldnews Data"
   ]
  },
  {
   "cell_type": "code",
   "execution_count": 1,
   "metadata": {
    "collapsed": true
   },
   "outputs": [],
   "source": [
    "import pandas as pd\n",
    "import numpy as np\n",
    "import matplotlib.pyplot as plt\n",
    "%matplotlib inline"
   ]
  },
  {
   "cell_type": "code",
   "execution_count": 2,
   "metadata": {},
   "outputs": [
    {
     "data": {
      "text/html": [
       "<div>\n",
       "<style>\n",
       "    .dataframe thead tr:only-child th {\n",
       "        text-align: right;\n",
       "    }\n",
       "\n",
       "    .dataframe thead th {\n",
       "        text-align: left;\n",
       "    }\n",
       "\n",
       "    .dataframe tbody tr th {\n",
       "        vertical-align: top;\n",
       "    }\n",
       "</style>\n",
       "<table border=\"1\" class=\"dataframe\">\n",
       "  <thead>\n",
       "    <tr style=\"text-align: right;\">\n",
       "      <th></th>\n",
       "      <th>time_created</th>\n",
       "      <th>date_created</th>\n",
       "      <th>up_votes</th>\n",
       "      <th>down_votes</th>\n",
       "      <th>title</th>\n",
       "      <th>over_18</th>\n",
       "      <th>author</th>\n",
       "      <th>category</th>\n",
       "    </tr>\n",
       "  </thead>\n",
       "  <tbody>\n",
       "    <tr>\n",
       "      <th>0</th>\n",
       "      <td>1201232046</td>\n",
       "      <td>2008-01-25</td>\n",
       "      <td>3</td>\n",
       "      <td>0</td>\n",
       "      <td>Scores killed in Pakistan clashes</td>\n",
       "      <td>False</td>\n",
       "      <td>polar</td>\n",
       "      <td>worldnews</td>\n",
       "    </tr>\n",
       "    <tr>\n",
       "      <th>1</th>\n",
       "      <td>1201232075</td>\n",
       "      <td>2008-01-25</td>\n",
       "      <td>2</td>\n",
       "      <td>0</td>\n",
       "      <td>Japan resumes refuelling mission</td>\n",
       "      <td>False</td>\n",
       "      <td>polar</td>\n",
       "      <td>worldnews</td>\n",
       "    </tr>\n",
       "    <tr>\n",
       "      <th>2</th>\n",
       "      <td>1201232523</td>\n",
       "      <td>2008-01-25</td>\n",
       "      <td>3</td>\n",
       "      <td>0</td>\n",
       "      <td>US presses Egypt on Gaza border</td>\n",
       "      <td>False</td>\n",
       "      <td>polar</td>\n",
       "      <td>worldnews</td>\n",
       "    </tr>\n",
       "    <tr>\n",
       "      <th>3</th>\n",
       "      <td>1201233290</td>\n",
       "      <td>2008-01-25</td>\n",
       "      <td>1</td>\n",
       "      <td>0</td>\n",
       "      <td>Jump-start economy: Give health care to all</td>\n",
       "      <td>False</td>\n",
       "      <td>fadi420</td>\n",
       "      <td>worldnews</td>\n",
       "    </tr>\n",
       "    <tr>\n",
       "      <th>4</th>\n",
       "      <td>1201274720</td>\n",
       "      <td>2008-01-25</td>\n",
       "      <td>4</td>\n",
       "      <td>0</td>\n",
       "      <td>Council of Europe bashes EU&amp;UN terror blacklist</td>\n",
       "      <td>False</td>\n",
       "      <td>mhermans</td>\n",
       "      <td>worldnews</td>\n",
       "    </tr>\n",
       "  </tbody>\n",
       "</table>\n",
       "</div>"
      ],
      "text/plain": [
       "   time_created date_created  up_votes  down_votes  \\\n",
       "0    1201232046   2008-01-25         3           0   \n",
       "1    1201232075   2008-01-25         2           0   \n",
       "2    1201232523   2008-01-25         3           0   \n",
       "3    1201233290   2008-01-25         1           0   \n",
       "4    1201274720   2008-01-25         4           0   \n",
       "\n",
       "                                             title  over_18    author  \\\n",
       "0                Scores killed in Pakistan clashes    False     polar   \n",
       "1                 Japan resumes refuelling mission    False     polar   \n",
       "2                  US presses Egypt on Gaza border    False     polar   \n",
       "3     Jump-start economy: Give health care to all     False   fadi420   \n",
       "4  Council of Europe bashes EU&UN terror blacklist    False  mhermans   \n",
       "\n",
       "    category  \n",
       "0  worldnews  \n",
       "1  worldnews  \n",
       "2  worldnews  \n",
       "3  worldnews  \n",
       "4  worldnews  "
      ]
     },
     "execution_count": 2,
     "metadata": {},
     "output_type": "execute_result"
    }
   ],
   "source": [
    "data = pd.read_csv(\"Eluvio_DS_Challenge.csv\")\n",
    "data.head()"
   ]
  },
  {
   "cell_type": "markdown",
   "metadata": {},
   "source": [
    "First, we see below that the `category` is 'worldnews' for all entries in the dataset, and `down_votes` is always 0. We can likely ignore these columns in our analysis.\n",
    "\n",
    "There are over 85000 different authors in this dataset, and the data spans over 8 years."
   ]
  },
  {
   "cell_type": "code",
   "execution_count": 3,
   "metadata": {},
   "outputs": [
    {
     "name": "stdout",
     "output_type": "stream",
     "text": [
      "['worldnews']\n",
      "['polar' 'fadi420' 'mhermans' ..., 'calfellow' 'Randiathrowaway1'\n",
      " 'SummerRay'] 85838\n",
      "[0]\n",
      "2008-01-25 2016-11-22\n"
     ]
    }
   ],
   "source": [
    "print(data[\"category\"].unique())\n",
    "print(data[\"author\"].unique(), len(data[\"author\"].unique()))\n",
    "print(data[\"down_votes\"].unique())\n",
    "print(data[\"date_created\"].min(), data[\"date_created\"].max())"
   ]
  },
  {
   "cell_type": "markdown",
   "metadata": {},
   "source": [
    "Let's make columns for the timestamps so they are easier to deal with:"
   ]
  },
  {
   "cell_type": "code",
   "execution_count": 4,
   "metadata": {},
   "outputs": [],
   "source": [
    "data[\"datetime\"] = pd.to_datetime(data[\"time_created\"], unit='s')\n",
    "data[\"hour\"] = data[\"datetime\"].dt.hour"
   ]
  },
  {
   "cell_type": "code",
   "execution_count": 5,
   "metadata": {},
   "outputs": [
    {
     "data": {
      "image/png": "[encoded data removed]",
      "text/plain": [
       "<matplotlib.figure.Figure at 0x11b80e4e0>"
      ]
     },
     "metadata": {},
     "output_type": "display_data"
    }
   ],
   "source": [
    "votes_over_hours_df = data.groupby(\"hour\")[\"up_votes\"].sum()\n",
    "votes_over_hours_df.plot()\n",
    "plt.title(\"Sum of Upvotes for each Hour of Day\")\n",
    "plt.ylabel(\"Sum of Upvotes\");"
   ]
  },
  {
   "cell_type": "markdown",
   "metadata": {},
   "source": [
    "Here, we see that most of the upvotes recorded come from posts that were created between hours 10 and 15. However, this could be due to the fact that more posts are created around that time. Let's also look at the average upvotes per hour."
   ]
  },
  {
   "cell_type": "code",
   "execution_count": 6,
   "metadata": {},
   "outputs": [
    {
     "data": {
      "image/png": "[encoded data removed]",
      "text/plain": [
       "<matplotlib.figure.Figure at 0x112b92240>"
      ]
     },
     "metadata": {},
     "output_type": "display_data"
    }
   ],
   "source": [
    "votes_over_hours_df = data.groupby(\"hour\")[\"up_votes\"].mean()\n",
    "votes_over_hours_df.plot()\n",
    "plt.title(\"Avg Upvotes for each Hour of Day\")\n",
    "plt.ylabel(\"Avg Upvotes\");"
   ]
  },
  {
   "cell_type": "markdown",
   "metadata": {},
   "source": [
    "There is still a peak around hour 11, but a new one appears around midnight."
   ]
  },
  {
   "cell_type": "code",
   "execution_count": 7,
   "metadata": {},
   "outputs": [
    {
     "name": "stdout",
     "output_type": "stream",
     "text": [
      "0.09860850371929715\n"
     ]
    },
    {
     "data": {
      "image/png": "[encoded data removed]",
      "text/plain": [
       "<matplotlib.figure.Figure at 0x112af25c0>"
      ]
     },
     "metadata": {},
     "output_type": "display_data"
    }
   ],
   "source": [
    "plt.hist(np.log10(data[\"up_votes\"] + 0.1), bins=np.arange(-1, 5, 0.5)) # adding 0.1 to avoid log(0) error\n",
    "plt.title(\"Distribution of Upvotes\")\n",
    "plt.xlabel(\"log10 of Upvotes\")\n",
    "plt.ylabel(\"Count\")\n",
    "print(len(data[data[\"up_votes\"] > 100]) / len(data)); "
   ]
  },
  {
   "cell_type": "markdown",
   "metadata": {},
   "source": [
    "The bar on the left shows posts with 0 upvotes. The distribution of upvotes is skew right (longer right tail). Given this, let's define a \"popular\" post to be one with 100 upvotes. This should give us only the top ~10% of posts to examine more in-depth. Let's also use the previous plots to look at posts at midnight and 11am."
   ]
  },
  {
   "cell_type": "code",
   "execution_count": 8,
   "metadata": {},
   "outputs": [],
   "source": [
    "# https://gist.githubusercontent.com/larsyencken/1440509/raw/53273c6c202b35ef00194d06751d8ef630e53df2/stopwords.txt\n",
    "with open(\"stopwords.txt\", \"r\") as f:\n",
    "    stopwords = f.read().split(\"\\n\")[6:-1]"
   ]
  },
  {
   "cell_type": "code",
   "execution_count": 9,
   "metadata": {},
   "outputs": [
    {
     "data": {
      "text/plain": [
       "(1542, 10)"
      ]
     },
     "execution_count": 9,
     "metadata": {},
     "output_type": "execute_result"
    }
   ],
   "source": [
    "morning_subset = data[(data[\"hour\"] == 11) & (data[\"up_votes\"] > 100)]\n",
    "midnight_subset = data[(data[\"hour\"] == 0) & (data[\"up_votes\"] > 100)]\n",
    "midnight_subset.shape"
   ]
  },
  {
   "cell_type": "code",
   "execution_count": 10,
   "metadata": {},
   "outputs": [],
   "source": [
    "def get_common_words_in_post_titles(df):\n",
    "    unpacked_words = (df.title.str.lower()\n",
    "                              .str.replace('[^\\w\\s]','') # remove punctuation\n",
    "                              .str.split(expand=True)\n",
    "                              .stack()\n",
    "                              .reset_index()\n",
    "                              .drop(\"level_1\", axis=1)\n",
    "                              .rename(columns={'level_0': 'index', 0: 'word'}))\n",
    "    unpacked_words = pd.merge(unpacked_words, data[[\"up_votes\"]], left_on=\"index\", right_index=True)\n",
    "    unpacked_words = unpacked_words.groupby(\"word\")[\"up_votes\"].agg(sum).sort_values(ascending=False)\n",
    "    meaningful_words = [idx for idx in unpacked_words.index if idx not in stopwords]\n",
    "    return unpacked_words[meaningful_words]"
   ]
  },
  {
   "cell_type": "code",
   "execution_count": 11,
   "metadata": {},
   "outputs": [
    {
     "name": "stdout",
     "output_type": "stream",
     "text": [
      "MIDNIGHT WORDS:\n",
      " word\n",
      "world         93102\n",
      "people        86578\n",
      "government    84653\n",
      "isis          80022\n",
      "china         67178\n",
      "drug          64779\n",
      "north         62572\n",
      "korea         61255\n",
      "un            57738\n",
      "internet      56916\n",
      "report        56759\n",
      "police        56008\n",
      "canada        55695\n",
      "military      52830\n",
      "found         50408\n",
      "australia     50274\n",
      "trade         46398\n",
      "company       46214\n",
      "court         44228\n",
      "uk            44136\n",
      "Name: up_votes, dtype: int64\n",
      "\n",
      "\n",
      "MORNING WORDS:\n",
      " word\n",
      "world         225026\n",
      "people        189072\n",
      "russia        163177\n",
      "police        155262\n",
      "china         148597\n",
      "uk            120748\n",
      "minister      115529\n",
      "government    115238\n",
      "isis          110145\n",
      "president     100829\n",
      "russian        95717\n",
      "country        93773\n",
      "killed         90567\n",
      "korea          88820\n",
      "turkey         87853\n",
      "germany        86320\n",
      "women          86085\n",
      "north          84823\n",
      "found          83576\n",
      "ban            83044\n",
      "Name: up_votes, dtype: int64\n"
     ]
    }
   ],
   "source": [
    "common_midnight_words = get_common_words_in_post_titles(midnight_subset)\n",
    "common_morning_words = get_common_words_in_post_titles(morning_subset)\n",
    "print(\"MIDNIGHT WORDS:\\n\", common_midnight_words[:20])\n",
    "print(\"\\n\")\n",
    "print(\"MORNING WORDS:\\n\",common_morning_words[:20])"
   ]
  },
  {
   "cell_type": "markdown",
   "metadata": {},
   "source": [
    "It appears that the timing of the posts may be related to the country names mentioned in the post title. In the morning subset, it looks like popular posts discuss Russia, China, UK, Korea, Turkey, and Germany. In the midnight subset, we see China, Korea, Canada, Australia, and UK. If a business wanted to spread world news to relevant users, they would need to consider posting at 12am or 11am depending on the region they are trying to target.\n",
    "\n",
    "With a larger dataset that does not fit on RAM, we could take several samples of posts and perform the same exploratory data analysis on each sample. Using the top words/times generated by each sample, we could intelligently weight them to come up with a set of general guidelines for \"when to post to which country/region.\""
   ]
  },
  {
   "cell_type": "code",
   "execution_count": null,
   "metadata": {
    "collapsed": true
   },
   "outputs": [],
   "source": []
  }
 ],
 "metadata": {
  "kernelspec": {
   "display_name": "Python 3",
   "language": "python",
   "name": "python3"
  },
  "language_info": {
   "codemirror_mode": {
    "name": "ipython",
    "version": 3
   },
   "file_extension": ".py",
   "mimetype": "text/x-python",
   "name": "python",
   "nbconvert_exporter": "python",
   "pygments_lexer": "ipython3",
   "version": "3.6.1"
  }
 },
 "nbformat": 4,
 "nbformat_minor": 2
}
